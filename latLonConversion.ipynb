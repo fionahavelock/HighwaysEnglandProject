{
 "cells": [
  {
   "cell_type": "code",
   "execution_count": 1,
   "metadata": {},
   "outputs": [],
   "source": [
    "import pandas as pd"
   ]
  },
  {
   "cell_type": "code",
   "execution_count": 41,
   "metadata": {},
   "outputs": [],
   "source": [
    "df = pd.read_csv('C:\\\\Users\\\\fiona.havelock\\\\Documents\\\\FinalProject\\\\accidentLocationData_missingLongLat.csv')"
   ]
  },
  {
   "cell_type": "code",
   "execution_count": 40,
   "metadata": {},
   "outputs": [
    {
     "data": {
      "text/html": [
       "<div>\n",
       "<style scoped>\n",
       "    .dataframe tbody tr th:only-of-type {\n",
       "        vertical-align: middle;\n",
       "    }\n",
       "\n",
       "    .dataframe tbody tr th {\n",
       "        vertical-align: top;\n",
       "    }\n",
       "\n",
       "    .dataframe thead th {\n",
       "        text-align: right;\n",
       "    }\n",
       "</style>\n",
       "<table border=\"1\" class=\"dataframe\">\n",
       "  <thead>\n",
       "    <tr style=\"text-align: right;\">\n",
       "      <th></th>\n",
       "      <th>location_easting_osgr</th>\n",
       "      <th>location_northing_osgr</th>\n",
       "      <th>longitude</th>\n",
       "      <th>latitude</th>\n",
       "    </tr>\n",
       "  </thead>\n",
       "  <tbody>\n",
       "    <tr>\n",
       "      <th>0</th>\n",
       "      <td>198460.0</td>\n",
       "      <td>894000.0</td>\n",
       "      <td>8.00477</td>\n",
       "      <td>1.782797</td>\n",
       "    </tr>\n",
       "    <tr>\n",
       "      <th>1</th>\n",
       "      <td>406380.0</td>\n",
       "      <td>307000.0</td>\n",
       "      <td>2.756764</td>\n",
       "      <td>3.650574</td>\n",
       "    </tr>\n",
       "    <tr>\n",
       "      <th>2</th>\n",
       "      <td>281680.0</td>\n",
       "      <td>440000.0</td>\n",
       "      <td>3.949456</td>\n",
       "      <td>2.530374</td>\n",
       "    </tr>\n",
       "    <tr>\n",
       "      <th>3</th>\n",
       "      <td>153960.0</td>\n",
       "      <td>795000.0</td>\n",
       "      <td>7.123186</td>\n",
       "      <td>1.383046</td>\n",
       "    </tr>\n",
       "    <tr>\n",
       "      <th>4</th>\n",
       "      <td>300370.0</td>\n",
       "      <td>146000.0</td>\n",
       "      <td>1.311426</td>\n",
       "      <td>2.69827</td>\n",
       "    </tr>\n",
       "    <tr>\n",
       "      <th>...</th>\n",
       "      <td>...</td>\n",
       "      <td>...</td>\n",
       "      <td>...</td>\n",
       "      <td>...</td>\n",
       "    </tr>\n",
       "    <tr>\n",
       "      <th>1048569</th>\n",
       "      <td>515550.0</td>\n",
       "      <td>180190.0</td>\n",
       "      <td></td>\n",
       "      <td></td>\n",
       "    </tr>\n",
       "    <tr>\n",
       "      <th>1048570</th>\n",
       "      <td>520070.0</td>\n",
       "      <td>182570.0</td>\n",
       "      <td></td>\n",
       "      <td></td>\n",
       "    </tr>\n",
       "    <tr>\n",
       "      <th>1048571</th>\n",
       "      <td>517550.0</td>\n",
       "      <td>180690.0</td>\n",
       "      <td></td>\n",
       "      <td></td>\n",
       "    </tr>\n",
       "    <tr>\n",
       "      <th>1048572</th>\n",
       "      <td>517720.0</td>\n",
       "      <td>178870.0</td>\n",
       "      <td></td>\n",
       "      <td></td>\n",
       "    </tr>\n",
       "    <tr>\n",
       "      <th>1048573</th>\n",
       "      <td>520660.0</td>\n",
       "      <td>181490.0</td>\n",
       "      <td></td>\n",
       "      <td></td>\n",
       "    </tr>\n",
       "  </tbody>\n",
       "</table>\n",
       "<p>1048574 rows × 4 columns</p>\n",
       "</div>"
      ],
      "text/plain": [
       "         location_easting_osgr  location_northing_osgr longitude  latitude\n",
       "0                     198460.0                894000.0   8.00477  1.782797\n",
       "1                     406380.0                307000.0  2.756764  3.650574\n",
       "2                     281680.0                440000.0  3.949456  2.530374\n",
       "3                     153960.0                795000.0  7.123186  1.383046\n",
       "4                     300370.0                146000.0  1.311426   2.69827\n",
       "...                        ...                     ...       ...       ...\n",
       "1048569               515550.0                180190.0                    \n",
       "1048570               520070.0                182570.0                    \n",
       "1048571               517550.0                180690.0                    \n",
       "1048572               517720.0                178870.0                    \n",
       "1048573               520660.0                181490.0                    \n",
       "\n",
       "[1048574 rows x 4 columns]"
      ]
     },
     "execution_count": 40,
     "metadata": {},
     "output_type": "execute_result"
    }
   ],
   "source": [
    "df"
   ]
  },
  {
   "cell_type": "code",
   "execution_count": 3,
   "metadata": {},
   "outputs": [],
   "source": [
    "import pyproj"
   ]
  },
  {
   "cell_type": "code",
   "execution_count": 82,
   "metadata": {},
   "outputs": [
    {
     "name": "stderr",
     "output_type": "stream",
     "text": [
      "C:\\Users\\fiona.havelock\\AppData\\Local\\Temp\\ipykernel_2300\\64542651.py:5: FutureWarning: This function is deprecated. See: https://pyproj4.github.io/pyproj/stable/gotchas.html#upgrading-to-pyproj-2-from-pyproj-1\n",
      "  pyproj.transform(InputGrid, wgs84, x1, y1)\n"
     ]
    },
    {
     "data": {
      "text/plain": [
       "(8.004770297976194, 1.782796512863602)"
      ]
     },
     "execution_count": 82,
     "metadata": {},
     "output_type": "execute_result"
    }
   ],
   "source": [
    "wgs84 = pyproj.Proj(projparams = 'epsg:4326')\n",
    "InputGrid = pyproj.Proj(projparams = 'epsg:3857')\n",
    "\n",
    "x1, y1 = 198460.0,894000.0\n",
    "pyproj.transform(InputGrid, wgs84, x1, y1)"
   ]
  },
  {
   "cell_type": "code",
   "execution_count": 83,
   "metadata": {},
   "outputs": [
    {
     "data": {
      "text/plain": [
       "1048574"
      ]
     },
     "execution_count": 83,
     "metadata": {},
     "output_type": "execute_result"
    }
   ],
   "source": [
    "len(df)"
   ]
  },
  {
   "cell_type": "code",
   "execution_count": 42,
   "metadata": {},
   "outputs": [
    {
     "name": "stdout",
     "output_type": "stream",
     "text": [
      "(8.004770297976194, 1.782796512863602)\n"
     ]
    },
    {
     "name": "stderr",
     "output_type": "stream",
     "text": [
      "C:\\Users\\fiona.havelock\\AppData\\Local\\Temp\\ipykernel_21588\\1948201527.py:8: FutureWarning: This function is deprecated. See: https://pyproj4.github.io/pyproj/stable/gotchas.html#upgrading-to-pyproj-2-from-pyproj-1\n",
      "  longLat = pyproj.transform(InputGrid, wgs84, x1, y1)\n",
      "C:\\Users\\fiona.havelock\\AppData\\Local\\Temp\\ipykernel_21588\\1948201527.py:11: FutureWarning: The frame.append method is deprecated and will be removed from pandas in a future version. Use pandas.concat instead.\n",
      "  LongLatdf.append(longLat)\n"
     ]
    },
    {
     "ename": "TypeError",
     "evalue": "cannot concatenate object of type '<class 'float'>'; only Series and DataFrame objs are valid",
     "output_type": "error",
     "traceback": [
      "\u001b[1;31m---------------------------------------------------------------------------\u001b[0m",
      "\u001b[1;31mTypeError\u001b[0m                                 Traceback (most recent call last)",
      "Cell \u001b[1;32mIn[42], line 11\u001b[0m\n\u001b[0;32m      9\u001b[0m     \u001b[39mprint\u001b[39m(longLat)\n\u001b[0;32m     10\u001b[0m     \u001b[39m# using loc methods\u001b[39;00m\n\u001b[1;32m---> 11\u001b[0m     LongLatdf\u001b[39m.\u001b[39;49mappend(longLat)\n\u001b[0;32m     14\u001b[0m LongLatdf\n",
      "File \u001b[1;32mc:\\Users\\fiona.havelock\\Documents\\FinalProject\\env\\lib\\site-packages\\pandas\\core\\frame.py:9765\u001b[0m, in \u001b[0;36mDataFrame.append\u001b[1;34m(self, other, ignore_index, verify_integrity, sort)\u001b[0m\n\u001b[0;32m   9662\u001b[0m \u001b[39m\"\"\"\u001b[39;00m\n\u001b[0;32m   9663\u001b[0m \u001b[39mAppend rows of `other` to the end of caller, returning a new object.\u001b[39;00m\n\u001b[0;32m   9664\u001b[0m \n\u001b[1;32m   (...)\u001b[0m\n\u001b[0;32m   9755\u001b[0m \u001b[39m4  4\u001b[39;00m\n\u001b[0;32m   9756\u001b[0m \u001b[39m\"\"\"\u001b[39;00m\n\u001b[0;32m   9757\u001b[0m warnings\u001b[39m.\u001b[39mwarn(\n\u001b[0;32m   9758\u001b[0m     \u001b[39m\"\u001b[39m\u001b[39mThe frame.append method is deprecated \u001b[39m\u001b[39m\"\u001b[39m\n\u001b[0;32m   9759\u001b[0m     \u001b[39m\"\u001b[39m\u001b[39mand will be removed from pandas in a future version. \u001b[39m\u001b[39m\"\u001b[39m\n\u001b[1;32m   (...)\u001b[0m\n\u001b[0;32m   9762\u001b[0m     stacklevel\u001b[39m=\u001b[39mfind_stack_level(),\n\u001b[0;32m   9763\u001b[0m )\n\u001b[1;32m-> 9765\u001b[0m \u001b[39mreturn\u001b[39;00m \u001b[39mself\u001b[39;49m\u001b[39m.\u001b[39;49m_append(other, ignore_index, verify_integrity, sort)\n",
      "File \u001b[1;32mc:\\Users\\fiona.havelock\\Documents\\FinalProject\\env\\lib\\site-packages\\pandas\\core\\frame.py:9805\u001b[0m, in \u001b[0;36mDataFrame._append\u001b[1;34m(self, other, ignore_index, verify_integrity, sort)\u001b[0m\n\u001b[0;32m   9802\u001b[0m \u001b[39melse\u001b[39;00m:\n\u001b[0;32m   9803\u001b[0m     to_concat \u001b[39m=\u001b[39m [\u001b[39mself\u001b[39m, other]\n\u001b[1;32m-> 9805\u001b[0m result \u001b[39m=\u001b[39m concat(\n\u001b[0;32m   9806\u001b[0m     to_concat,\n\u001b[0;32m   9807\u001b[0m     ignore_index\u001b[39m=\u001b[39;49mignore_index,\n\u001b[0;32m   9808\u001b[0m     verify_integrity\u001b[39m=\u001b[39;49mverify_integrity,\n\u001b[0;32m   9809\u001b[0m     sort\u001b[39m=\u001b[39;49msort,\n\u001b[0;32m   9810\u001b[0m )\n\u001b[0;32m   9811\u001b[0m \u001b[39mreturn\u001b[39;00m result\u001b[39m.\u001b[39m__finalize__(\u001b[39mself\u001b[39m, method\u001b[39m=\u001b[39m\u001b[39m\"\u001b[39m\u001b[39mappend\u001b[39m\u001b[39m\"\u001b[39m)\n",
      "File \u001b[1;32mc:\\Users\\fiona.havelock\\Documents\\FinalProject\\env\\lib\\site-packages\\pandas\\util\\_decorators.py:331\u001b[0m, in \u001b[0;36mdeprecate_nonkeyword_arguments.<locals>.decorate.<locals>.wrapper\u001b[1;34m(*args, **kwargs)\u001b[0m\n\u001b[0;32m    325\u001b[0m \u001b[39mif\u001b[39;00m \u001b[39mlen\u001b[39m(args) \u001b[39m>\u001b[39m num_allow_args:\n\u001b[0;32m    326\u001b[0m     warnings\u001b[39m.\u001b[39mwarn(\n\u001b[0;32m    327\u001b[0m         msg\u001b[39m.\u001b[39mformat(arguments\u001b[39m=\u001b[39m_format_argument_list(allow_args)),\n\u001b[0;32m    328\u001b[0m         \u001b[39mFutureWarning\u001b[39;00m,\n\u001b[0;32m    329\u001b[0m         stacklevel\u001b[39m=\u001b[39mfind_stack_level(),\n\u001b[0;32m    330\u001b[0m     )\n\u001b[1;32m--> 331\u001b[0m \u001b[39mreturn\u001b[39;00m func(\u001b[39m*\u001b[39margs, \u001b[39m*\u001b[39m\u001b[39m*\u001b[39mkwargs)\n",
      "File \u001b[1;32mc:\\Users\\fiona.havelock\\Documents\\FinalProject\\env\\lib\\site-packages\\pandas\\core\\reshape\\concat.py:368\u001b[0m, in \u001b[0;36mconcat\u001b[1;34m(objs, axis, join, ignore_index, keys, levels, names, verify_integrity, sort, copy)\u001b[0m\n\u001b[0;32m    146\u001b[0m \u001b[39m@deprecate_nonkeyword_arguments\u001b[39m(version\u001b[39m=\u001b[39m\u001b[39mNone\u001b[39;00m, allowed_args\u001b[39m=\u001b[39m[\u001b[39m\"\u001b[39m\u001b[39mobjs\u001b[39m\u001b[39m\"\u001b[39m])\n\u001b[0;32m    147\u001b[0m \u001b[39mdef\u001b[39;00m \u001b[39mconcat\u001b[39m(\n\u001b[0;32m    148\u001b[0m     objs: Iterable[NDFrame] \u001b[39m|\u001b[39m Mapping[HashableT, NDFrame],\n\u001b[1;32m   (...)\u001b[0m\n\u001b[0;32m    157\u001b[0m     copy: \u001b[39mbool\u001b[39m \u001b[39m=\u001b[39m \u001b[39mTrue\u001b[39;00m,\n\u001b[0;32m    158\u001b[0m ) \u001b[39m-\u001b[39m\u001b[39m>\u001b[39m DataFrame \u001b[39m|\u001b[39m Series:\n\u001b[0;32m    159\u001b[0m     \u001b[39m\"\"\"\u001b[39;00m\n\u001b[0;32m    160\u001b[0m \u001b[39m    Concatenate pandas objects along a particular axis.\u001b[39;00m\n\u001b[0;32m    161\u001b[0m \n\u001b[1;32m   (...)\u001b[0m\n\u001b[0;32m    366\u001b[0m \u001b[39m    1   3   4\u001b[39;00m\n\u001b[0;32m    367\u001b[0m \u001b[39m    \"\"\"\u001b[39;00m\n\u001b[1;32m--> 368\u001b[0m     op \u001b[39m=\u001b[39m _Concatenator(\n\u001b[0;32m    369\u001b[0m         objs,\n\u001b[0;32m    370\u001b[0m         axis\u001b[39m=\u001b[39;49maxis,\n\u001b[0;32m    371\u001b[0m         ignore_index\u001b[39m=\u001b[39;49mignore_index,\n\u001b[0;32m    372\u001b[0m         join\u001b[39m=\u001b[39;49mjoin,\n\u001b[0;32m    373\u001b[0m         keys\u001b[39m=\u001b[39;49mkeys,\n\u001b[0;32m    374\u001b[0m         levels\u001b[39m=\u001b[39;49mlevels,\n\u001b[0;32m    375\u001b[0m         names\u001b[39m=\u001b[39;49mnames,\n\u001b[0;32m    376\u001b[0m         verify_integrity\u001b[39m=\u001b[39;49mverify_integrity,\n\u001b[0;32m    377\u001b[0m         copy\u001b[39m=\u001b[39;49mcopy,\n\u001b[0;32m    378\u001b[0m         sort\u001b[39m=\u001b[39;49msort,\n\u001b[0;32m    379\u001b[0m     )\n\u001b[0;32m    381\u001b[0m     \u001b[39mreturn\u001b[39;00m op\u001b[39m.\u001b[39mget_result()\n",
      "File \u001b[1;32mc:\\Users\\fiona.havelock\\Documents\\FinalProject\\env\\lib\\site-packages\\pandas\\core\\reshape\\concat.py:458\u001b[0m, in \u001b[0;36m_Concatenator.__init__\u001b[1;34m(self, objs, axis, join, keys, levels, names, ignore_index, verify_integrity, copy, sort)\u001b[0m\n\u001b[0;32m    453\u001b[0m     \u001b[39mif\u001b[39;00m \u001b[39mnot\u001b[39;00m \u001b[39misinstance\u001b[39m(obj, (ABCSeries, ABCDataFrame)):\n\u001b[0;32m    454\u001b[0m         msg \u001b[39m=\u001b[39m (\n\u001b[0;32m    455\u001b[0m             \u001b[39mf\u001b[39m\u001b[39m\"\u001b[39m\u001b[39mcannot concatenate object of type \u001b[39m\u001b[39m'\u001b[39m\u001b[39m{\u001b[39;00m\u001b[39mtype\u001b[39m(obj)\u001b[39m}\u001b[39;00m\u001b[39m'\u001b[39m\u001b[39m; \u001b[39m\u001b[39m\"\u001b[39m\n\u001b[0;32m    456\u001b[0m             \u001b[39m\"\u001b[39m\u001b[39monly Series and DataFrame objs are valid\u001b[39m\u001b[39m\"\u001b[39m\n\u001b[0;32m    457\u001b[0m         )\n\u001b[1;32m--> 458\u001b[0m         \u001b[39mraise\u001b[39;00m \u001b[39mTypeError\u001b[39;00m(msg)\n\u001b[0;32m    460\u001b[0m     ndims\u001b[39m.\u001b[39madd(obj\u001b[39m.\u001b[39mndim)\n\u001b[0;32m    462\u001b[0m \u001b[39m# get the sample\u001b[39;00m\n\u001b[0;32m    463\u001b[0m \u001b[39m# want the highest ndim that we have, and must be non-empty\u001b[39;00m\n\u001b[0;32m    464\u001b[0m \u001b[39m# unless all objs are empty\u001b[39;00m\n",
      "\u001b[1;31mTypeError\u001b[0m: cannot concatenate object of type '<class 'float'>'; only Series and DataFrame objs are valid"
     ]
    }
   ],
   "source": [
    "wgs84 = pyproj.Proj(projparams = 'epsg:4326')\n",
    "InputGrid = pyproj.Proj(projparams = 'epsg:3857')\n",
    "LongLatdf = pd.DataFrame(columns=[\"Longitude\", \"Latitude\"])\n",
    "\n",
    "for row_index,row in df.iterrows():\n",
    "    x1 = row[0]\n",
    "    y1 = row[1]\n",
    "    longLat = pyproj.transform(InputGrid, wgs84, x1, y1)\n",
    "    print(longLat)\n",
    "    # using loc methods\n",
    "    LongLatdf.append(longLat)\n",
    "\n",
    "\n",
    "LongLatdf"
   ]
  },
  {
   "cell_type": "code",
   "execution_count": 25,
   "metadata": {},
   "outputs": [
    {
     "name": "stderr",
     "output_type": "stream",
     "text": [
      "C:\\Users\\fiona.havelock\\AppData\\Local\\Temp\\ipykernel_21588\\1252970571.py:8: FutureWarning: This function is deprecated. See: https://pyproj4.github.io/pyproj/stable/gotchas.html#upgrading-to-pyproj-2-from-pyproj-1\n",
      "  longLat = list(pyproj.transform(InputGrid, wgs84, x1, y1))\n"
     ]
    },
    {
     "ename": "KeyError",
     "evalue": "\"None of [Float64Index([8.004770297976194, 1.782796512863602], dtype='float64')] are in the [index]\"",
     "output_type": "error",
     "traceback": [
      "\u001b[1;31m---------------------------------------------------------------------------\u001b[0m",
      "\u001b[1;31mKeyError\u001b[0m                                  Traceback (most recent call last)",
      "Cell \u001b[1;32mIn[25], line 9\u001b[0m\n\u001b[0;32m      7\u001b[0m     y1 \u001b[39m=\u001b[39m row[\u001b[39m1\u001b[39m]\n\u001b[0;32m      8\u001b[0m     longLat \u001b[39m=\u001b[39m \u001b[39mlist\u001b[39m(pyproj\u001b[39m.\u001b[39mtransform(InputGrid, wgs84, x1, y1))\n\u001b[1;32m----> 9\u001b[0m     LongLatdf\u001b[39m.\u001b[39;49mloc[longLat]\n\u001b[0;32m     11\u001b[0m LongLatdf\n",
      "File \u001b[1;32mc:\\Users\\fiona.havelock\\Documents\\FinalProject\\env\\lib\\site-packages\\pandas\\core\\indexing.py:1073\u001b[0m, in \u001b[0;36m_LocationIndexer.__getitem__\u001b[1;34m(self, key)\u001b[0m\n\u001b[0;32m   1070\u001b[0m axis \u001b[39m=\u001b[39m \u001b[39mself\u001b[39m\u001b[39m.\u001b[39maxis \u001b[39mor\u001b[39;00m \u001b[39m0\u001b[39m\n\u001b[0;32m   1072\u001b[0m maybe_callable \u001b[39m=\u001b[39m com\u001b[39m.\u001b[39mapply_if_callable(key, \u001b[39mself\u001b[39m\u001b[39m.\u001b[39mobj)\n\u001b[1;32m-> 1073\u001b[0m \u001b[39mreturn\u001b[39;00m \u001b[39mself\u001b[39;49m\u001b[39m.\u001b[39;49m_getitem_axis(maybe_callable, axis\u001b[39m=\u001b[39;49maxis)\n",
      "File \u001b[1;32mc:\\Users\\fiona.havelock\\Documents\\FinalProject\\env\\lib\\site-packages\\pandas\\core\\indexing.py:1301\u001b[0m, in \u001b[0;36m_LocIndexer._getitem_axis\u001b[1;34m(self, key, axis)\u001b[0m\n\u001b[0;32m   1298\u001b[0m     \u001b[39mif\u001b[39;00m \u001b[39mhasattr\u001b[39m(key, \u001b[39m\"\u001b[39m\u001b[39mndim\u001b[39m\u001b[39m\"\u001b[39m) \u001b[39mand\u001b[39;00m key\u001b[39m.\u001b[39mndim \u001b[39m>\u001b[39m \u001b[39m1\u001b[39m:\n\u001b[0;32m   1299\u001b[0m         \u001b[39mraise\u001b[39;00m \u001b[39mValueError\u001b[39;00m(\u001b[39m\"\u001b[39m\u001b[39mCannot index with multidimensional key\u001b[39m\u001b[39m\"\u001b[39m)\n\u001b[1;32m-> 1301\u001b[0m     \u001b[39mreturn\u001b[39;00m \u001b[39mself\u001b[39;49m\u001b[39m.\u001b[39;49m_getitem_iterable(key, axis\u001b[39m=\u001b[39;49maxis)\n\u001b[0;32m   1303\u001b[0m \u001b[39m# nested tuple slicing\u001b[39;00m\n\u001b[0;32m   1304\u001b[0m \u001b[39mif\u001b[39;00m is_nested_tuple(key, labels):\n",
      "File \u001b[1;32mc:\\Users\\fiona.havelock\\Documents\\FinalProject\\env\\lib\\site-packages\\pandas\\core\\indexing.py:1239\u001b[0m, in \u001b[0;36m_LocIndexer._getitem_iterable\u001b[1;34m(self, key, axis)\u001b[0m\n\u001b[0;32m   1236\u001b[0m \u001b[39mself\u001b[39m\u001b[39m.\u001b[39m_validate_key(key, axis)\n\u001b[0;32m   1238\u001b[0m \u001b[39m# A collection of keys\u001b[39;00m\n\u001b[1;32m-> 1239\u001b[0m keyarr, indexer \u001b[39m=\u001b[39m \u001b[39mself\u001b[39;49m\u001b[39m.\u001b[39;49m_get_listlike_indexer(key, axis)\n\u001b[0;32m   1240\u001b[0m \u001b[39mreturn\u001b[39;00m \u001b[39mself\u001b[39m\u001b[39m.\u001b[39mobj\u001b[39m.\u001b[39m_reindex_with_indexers(\n\u001b[0;32m   1241\u001b[0m     {axis: [keyarr, indexer]}, copy\u001b[39m=\u001b[39m\u001b[39mTrue\u001b[39;00m, allow_dups\u001b[39m=\u001b[39m\u001b[39mTrue\u001b[39;00m\n\u001b[0;32m   1242\u001b[0m )\n",
      "File \u001b[1;32mc:\\Users\\fiona.havelock\\Documents\\FinalProject\\env\\lib\\site-packages\\pandas\\core\\indexing.py:1432\u001b[0m, in \u001b[0;36m_LocIndexer._get_listlike_indexer\u001b[1;34m(self, key, axis)\u001b[0m\n\u001b[0;32m   1429\u001b[0m ax \u001b[39m=\u001b[39m \u001b[39mself\u001b[39m\u001b[39m.\u001b[39mobj\u001b[39m.\u001b[39m_get_axis(axis)\n\u001b[0;32m   1430\u001b[0m axis_name \u001b[39m=\u001b[39m \u001b[39mself\u001b[39m\u001b[39m.\u001b[39mobj\u001b[39m.\u001b[39m_get_axis_name(axis)\n\u001b[1;32m-> 1432\u001b[0m keyarr, indexer \u001b[39m=\u001b[39m ax\u001b[39m.\u001b[39;49m_get_indexer_strict(key, axis_name)\n\u001b[0;32m   1434\u001b[0m \u001b[39mreturn\u001b[39;00m keyarr, indexer\n",
      "File \u001b[1;32mc:\\Users\\fiona.havelock\\Documents\\FinalProject\\env\\lib\\site-packages\\pandas\\core\\indexes\\base.py:6113\u001b[0m, in \u001b[0;36mIndex._get_indexer_strict\u001b[1;34m(self, key, axis_name)\u001b[0m\n\u001b[0;32m   6110\u001b[0m \u001b[39melse\u001b[39;00m:\n\u001b[0;32m   6111\u001b[0m     keyarr, indexer, new_indexer \u001b[39m=\u001b[39m \u001b[39mself\u001b[39m\u001b[39m.\u001b[39m_reindex_non_unique(keyarr)\n\u001b[1;32m-> 6113\u001b[0m \u001b[39mself\u001b[39;49m\u001b[39m.\u001b[39;49m_raise_if_missing(keyarr, indexer, axis_name)\n\u001b[0;32m   6115\u001b[0m keyarr \u001b[39m=\u001b[39m \u001b[39mself\u001b[39m\u001b[39m.\u001b[39mtake(indexer)\n\u001b[0;32m   6116\u001b[0m \u001b[39mif\u001b[39;00m \u001b[39misinstance\u001b[39m(key, Index):\n\u001b[0;32m   6117\u001b[0m     \u001b[39m# GH 42790 - Preserve name from an Index\u001b[39;00m\n",
      "File \u001b[1;32mc:\\Users\\fiona.havelock\\Documents\\FinalProject\\env\\lib\\site-packages\\pandas\\core\\indexes\\base.py:6173\u001b[0m, in \u001b[0;36mIndex._raise_if_missing\u001b[1;34m(self, key, indexer, axis_name)\u001b[0m\n\u001b[0;32m   6171\u001b[0m     \u001b[39mif\u001b[39;00m use_interval_msg:\n\u001b[0;32m   6172\u001b[0m         key \u001b[39m=\u001b[39m \u001b[39mlist\u001b[39m(key)\n\u001b[1;32m-> 6173\u001b[0m     \u001b[39mraise\u001b[39;00m \u001b[39mKeyError\u001b[39;00m(\u001b[39mf\u001b[39m\u001b[39m\"\u001b[39m\u001b[39mNone of [\u001b[39m\u001b[39m{\u001b[39;00mkey\u001b[39m}\u001b[39;00m\u001b[39m] are in the [\u001b[39m\u001b[39m{\u001b[39;00maxis_name\u001b[39m}\u001b[39;00m\u001b[39m]\u001b[39m\u001b[39m\"\u001b[39m)\n\u001b[0;32m   6175\u001b[0m not_found \u001b[39m=\u001b[39m \u001b[39mlist\u001b[39m(ensure_index(key)[missing_mask\u001b[39m.\u001b[39mnonzero()[\u001b[39m0\u001b[39m]]\u001b[39m.\u001b[39munique())\n\u001b[0;32m   6176\u001b[0m \u001b[39mraise\u001b[39;00m \u001b[39mKeyError\u001b[39;00m(\u001b[39mf\u001b[39m\u001b[39m\"\u001b[39m\u001b[39m{\u001b[39;00mnot_found\u001b[39m}\u001b[39;00m\u001b[39m not in index\u001b[39m\u001b[39m\"\u001b[39m)\n",
      "\u001b[1;31mKeyError\u001b[0m: \"None of [Float64Index([8.004770297976194, 1.782796512863602], dtype='float64')] are in the [index]\""
     ]
    }
   ],
   "source": [
    "wgs84 = pyproj.Proj(projparams = 'epsg:4326')\n",
    "InputGrid = pyproj.Proj(projparams = 'epsg:3857')\n",
    "LongLatdf = pd.DataFrame(columns=[\"Longitude\", \"Latitude\"])\n",
    "\n",
    "for row_index,row in df.iterrows():\n",
    "    x1 = row[0]\n",
    "    y1 = row[1]\n",
    "    longLat = list(pyproj.transform(InputGrid, wgs84, x1, y1))\n",
    "    LongLatdf.loc[longLat]\n",
    "\n",
    "LongLatdf\n"
   ]
  },
  {
   "cell_type": "code",
   "execution_count": 39,
   "metadata": {},
   "outputs": [
    {
     "name": "stderr",
     "output_type": "stream",
     "text": [
      "C:\\Users\\fiona.havelock\\AppData\\Local\\Temp\\ipykernel_21588\\1098274954.py:10: FutureWarning: This function is deprecated. See: https://pyproj4.github.io/pyproj/stable/gotchas.html#upgrading-to-pyproj-2-from-pyproj-1\n",
      "  longLat = list(pyproj.transform(InputGrid, wgs84, x1, y1))\n"
     ]
    },
    {
     "ename": "KeyboardInterrupt",
     "evalue": "",
     "output_type": "error",
     "traceback": [
      "\u001b[1;31m---------------------------------------------------------------------------\u001b[0m",
      "\u001b[1;31mKeyboardInterrupt\u001b[0m                         Traceback (most recent call last)",
      "Cell \u001b[1;32mIn[39], line 10\u001b[0m\n\u001b[0;32m      8\u001b[0m x1 \u001b[39m=\u001b[39m row[\u001b[39m0\u001b[39m]\n\u001b[0;32m      9\u001b[0m y1 \u001b[39m=\u001b[39m row[\u001b[39m1\u001b[39m]\n\u001b[1;32m---> 10\u001b[0m longLat \u001b[39m=\u001b[39m \u001b[39mlist\u001b[39m(pyproj\u001b[39m.\u001b[39;49mtransform(InputGrid, wgs84, x1, y1))\n\u001b[0;32m     11\u001b[0m \u001b[39m#row[2] = longLat[0]    #row[3] = longLat[1]    \u001b[39;00m\n\u001b[0;32m     12\u001b[0m df\u001b[39m.\u001b[39mat[row_index, \u001b[39m\"\u001b[39m\u001b[39mlongitude\u001b[39m\u001b[39m\"\u001b[39m] \u001b[39m=\u001b[39m longLat[\u001b[39m0\u001b[39m]\n",
      "File \u001b[1;32mc:\\Users\\fiona.havelock\\Documents\\FinalProject\\env\\lib\\site-packages\\pyproj\\transformer.py:1251\u001b[0m, in \u001b[0;36mtransform\u001b[1;34m(p1, p2, x, y, z, tt, radians, errcheck, always_xy)\u001b[0m\n\u001b[0;32m   1169\u001b[0m \u001b[39m\"\"\"\u001b[39;00m\n\u001b[0;32m   1170\u001b[0m \u001b[39m.. versionadded:: 2.2.0 always_xy\u001b[39;00m\n\u001b[0;32m   1171\u001b[0m \n\u001b[1;32m   (...)\u001b[0m\n\u001b[0;32m   1240\u001b[0m \u001b[39m' -92.220  -94.720  -90.370 38.830 39.320 38.750'\u001b[39;00m\n\u001b[0;32m   1241\u001b[0m \u001b[39m\"\"\"\u001b[39;00m\n\u001b[0;32m   1242\u001b[0m warnings\u001b[39m.\u001b[39mwarn(\n\u001b[0;32m   1243\u001b[0m     (\n\u001b[0;32m   1244\u001b[0m         \u001b[39m\"\u001b[39m\u001b[39mThis function is deprecated. \u001b[39m\u001b[39m\"\u001b[39m\n\u001b[1;32m   (...)\u001b[0m\n\u001b[0;32m   1249\u001b[0m     stacklevel\u001b[39m=\u001b[39m\u001b[39m2\u001b[39m,\n\u001b[0;32m   1250\u001b[0m )\n\u001b[1;32m-> 1251\u001b[0m \u001b[39mreturn\u001b[39;00m Transformer\u001b[39m.\u001b[39;49mfrom_proj(p1, p2, always_xy\u001b[39m=\u001b[39;49malways_xy)\u001b[39m.\u001b[39;49mtransform(\n\u001b[0;32m   1252\u001b[0m     xx\u001b[39m=\u001b[39;49mx, yy\u001b[39m=\u001b[39;49my, zz\u001b[39m=\u001b[39;49mz, tt\u001b[39m=\u001b[39;49mtt, radians\u001b[39m=\u001b[39;49mradians, errcheck\u001b[39m=\u001b[39;49merrcheck\n\u001b[0;32m   1253\u001b[0m )\n",
      "File \u001b[1;32mc:\\Users\\fiona.havelock\\Documents\\FinalProject\\env\\lib\\site-packages\\pyproj\\transformer.py:804\u001b[0m, in \u001b[0;36mTransformer.transform\u001b[1;34m(self, xx, yy, zz, tt, radians, errcheck, direction, inplace)\u001b[0m\n\u001b[0;32m    802\u001b[0m     intime \u001b[39m=\u001b[39m \u001b[39mNone\u001b[39;00m\n\u001b[0;32m    803\u001b[0m \u001b[39m# call pj_transform.  inx,iny,inz buffers modified in place.\u001b[39;00m\n\u001b[1;32m--> 804\u001b[0m \u001b[39mself\u001b[39;49m\u001b[39m.\u001b[39;49m_transformer\u001b[39m.\u001b[39;49m_transform(\n\u001b[0;32m    805\u001b[0m     inx,\n\u001b[0;32m    806\u001b[0m     iny,\n\u001b[0;32m    807\u001b[0m     inz\u001b[39m=\u001b[39;49minz,\n\u001b[0;32m    808\u001b[0m     intime\u001b[39m=\u001b[39;49mintime,\n\u001b[0;32m    809\u001b[0m     direction\u001b[39m=\u001b[39;49mdirection,\n\u001b[0;32m    810\u001b[0m     radians\u001b[39m=\u001b[39;49mradians,\n\u001b[0;32m    811\u001b[0m     errcheck\u001b[39m=\u001b[39;49merrcheck,\n\u001b[0;32m    812\u001b[0m )\n\u001b[0;32m    813\u001b[0m \u001b[39m# if inputs were lists, tuples or floats, convert back.\u001b[39;00m\n\u001b[0;32m    814\u001b[0m outx \u001b[39m=\u001b[39m _convertback(x_data_type, inx)\n",
      "File \u001b[1;32mpyproj\\_transformer.pyx:705\u001b[0m, in \u001b[0;36mpyproj._transformer._Transformer._transform\u001b[1;34m()\u001b[0m\n",
      "File \u001b[1;32mc:\\Users\\fiona.havelock\\Documents\\FinalProject\\env\\lib\\site-packages\\pyproj\\exceptions.py:19\u001b[0m, in \u001b[0;36mProjError.clear\u001b[1;34m()\u001b[0m\n\u001b[0;32m     16\u001b[0m         ProjError\u001b[39m.\u001b[39mclear()\n\u001b[0;32m     17\u001b[0m     \u001b[39msuper\u001b[39m()\u001b[39m.\u001b[39m\u001b[39m__init__\u001b[39m(error_message)\n\u001b[1;32m---> 19\u001b[0m \u001b[39m@staticmethod\u001b[39m\n\u001b[0;32m     20\u001b[0m \u001b[39mdef\u001b[39;00m \u001b[39mclear\u001b[39m() \u001b[39m-\u001b[39m\u001b[39m>\u001b[39m \u001b[39mNone\u001b[39;00m:\n\u001b[0;32m     21\u001b[0m     \u001b[39m\"\"\"\u001b[39;00m\n\u001b[0;32m     22\u001b[0m \u001b[39m    This will clear the internal PROJ error message.\u001b[39;00m\n\u001b[0;32m     23\u001b[0m \u001b[39m    \"\"\"\u001b[39;00m\n\u001b[0;32m     24\u001b[0m     ProjError\u001b[39m.\u001b[39minternal_proj_error \u001b[39m=\u001b[39m \u001b[39mNone\u001b[39;00m\n",
      "\u001b[1;31mKeyboardInterrupt\u001b[0m: "
     ]
    }
   ],
   "source": [
    "wgs84 = pyproj.Proj(projparams = 'epsg:4326')\n",
    "InputGrid = pyproj.Proj(projparams = 'epsg:3857')\n",
    "df['longitude'] = ''\n",
    "df['latitude'] = ''\n",
    "\n",
    "for row_index,row in df.iterrows():\n",
    "    #print(row_index)    \n",
    "    x1 = row[0]\n",
    "    y1 = row[1]\n",
    "    longLat = list(pyproj.transform(InputGrid, wgs84, x1, y1))\n",
    "    #row[2] = longLat[0]    #row[3] = longLat[1]    \n",
    "    df.at[row_index, \"longitude\"] = longLat[0]\n",
    "    df.at[row_index, \"latitude\"] = longLat[1]\n",
    "    #print(row)df2\n",
    "df"
   ]
  },
  {
   "cell_type": "code",
   "execution_count": null,
   "metadata": {},
   "outputs": [],
   "source": [
    "\"\"\"\n",
    "for row_index,row in df.iterrows():\n",
    "    x1 = row[0]\n",
    "    y1 = row[1]\n",
    "    longLat = list(pyproj.transform(InputGrid, wgs84, x1, y1))\n",
    "    #print(longLat)\n",
    "    #append list to DataFrame\n",
    "    LongLatdf[\"Longitude\"].loc[len(LongLatdf)] = longLat[0]\n",
    "    LongLatdf[\"Latitude\"].loc[len(LongLatdf)] = longLat[1]\n",
    "\n",
    "\n",
    "\"\"\"\n",
    "\n",
    "    \"\"\"\n",
    "     LongLatdf[\"Longitude\"] = pd.concat(longLat[0])\n",
    "        LongLatdf[\"Latitude\"] = pd.concat(longLat[1])\n",
    "\n",
    "    temp_df = pd.DataFrame([longLat], columns=[\"Longitude\", \"Latitude\"])\n",
    "    LongLatdf = pd.concat([LongLatdf, temp_df])\n",
    "    \"\"\"\n",
    "\"\"\"\n",
    "\n",
    "LongLatdf\n",
    "\"\"\""
   ]
  }
 ],
 "metadata": {
  "kernelspec": {
   "display_name": "env",
   "language": "python",
   "name": "python3"
  },
  "language_info": {
   "codemirror_mode": {
    "name": "ipython",
    "version": 3
   },
   "file_extension": ".py",
   "mimetype": "text/x-python",
   "name": "python",
   "nbconvert_exporter": "python",
   "pygments_lexer": "ipython3",
   "version": "3.10.9 (tags/v3.10.9:1dd9be6, Dec  6 2022, 20:01:21) [MSC v.1934 64 bit (AMD64)]"
  },
  "orig_nbformat": 4,
  "vscode": {
   "interpreter": {
    "hash": "5f760064db7b1fc9c9b85b4005c6a176cbc25b516588362d087c242cf3a682aa"
   }
  }
 },
 "nbformat": 4,
 "nbformat_minor": 2
}
